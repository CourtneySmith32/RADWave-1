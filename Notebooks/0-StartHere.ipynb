{
 "cells": [
  {
   "cell_type": "markdown",
   "metadata": {},
   "source": [
    "# RADWave - _Wave Analysis for Altimeter data_\n",
    "\n",
    "A Python package built to perform wave analysis from satellite altimeter data.\n",
    "\n",
    "> Altimeters are widely established as an accurate remote sensing technique, and are particularly advantageous for remote areas, and locations with no long term monitoring of waves. The package can be used to calculate short term wave conditions and long term wave climate statistics from satellite radar altimeters. \n",
    "\n",
    "A documentation regarding **RADWave** package is available from [readthedoc](http://radwave.readthedocs.io/)\n",
    "\n",
    "[![Documentation Status](https://readthedocs.org/projects/radwave/badge/?version=latest)](https://radwave.readthedocs.io/en/latest/?badge=latest)\n",
    "\n",
    "\n",
    "## Navigation / Notebooks\n",
    "\n",
    "There are three notebooks available to demonstrate `bioLEC` capability. \n",
    "\n",
    "- [RADWave1-tileAnalysis.ipynb](notebooks/RADWave1-tileAnalysis.ipynb)\n",
    "- [RADWave2-ClimateVariability.ipynb](notebooks/RADWave2-ClimateVariability.ipynb)\n",
    "- [RADWave3-cycloneYasi.ipyn](notebooks/RADWave3-cycloneYasi.ipynb)\n",
    "\n",
    "\n",
    "\n",
    "## References\n",
    "\n",
    "\n",
    "  1. Ribal, A. and Young, I.R., 2019. 33 years of globally calibrated wave height and wind speed data based on altimeter observations. **Scientific Data** 6(77), p.100.\n",
    "\n",
    "  1. Young, I. R., Zieger, S. and Babanin, A. V., 2011. Global trends in wind speed and wave height. **Science**  332(6028), p. 451-455."
   ]
  },
  {
   "cell_type": "code",
   "execution_count": null,
   "metadata": {},
   "outputs": [],
   "source": []
  }
 ],
 "metadata": {
  "kernelspec": {
   "display_name": "Python 3",
   "language": "python",
   "name": "python3"
  },
  "language_info": {
   "codemirror_mode": {
    "name": "ipython",
    "version": 3
   },
   "file_extension": ".py",
   "mimetype": "text/x-python",
   "name": "python",
   "nbconvert_exporter": "python",
   "pygments_lexer": "ipython3",
   "version": "3.5.3"
  }
 },
 "nbformat": 4,
 "nbformat_minor": 2
}
